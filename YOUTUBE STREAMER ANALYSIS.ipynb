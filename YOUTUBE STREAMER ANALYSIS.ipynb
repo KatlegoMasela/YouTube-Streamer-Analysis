{
 "cells": [
  {
   "cell_type": "markdown",
   "id": "7e3d1c06",
   "metadata": {},
   "source": [
    "# YOUTUBE STREAMER ANALYSIS"
   ]
  },
  {
   "cell_type": "markdown",
   "id": "f3a2d0e3",
   "metadata": {},
   "source": [
    "### Introduction to YouTube Streamer Analysis Project\n",
    "\n",
    "The rapid growth of YouTube has transformed it into a significant platform for content creators, offering a unique opportunity for individuals to share their talents, opinions, and entertain millions of viewers globally. Among these content creators, streamers have emerged as a prominent group, captivating audiences with live broadcasts, gaming content, vlogs, and more. However, the competitive nature of YouTube makes it essential for streamers to understand their audience and optimize their strategies for growth.\n",
    "\n",
    "This project delves into the analysis of YouTube streamers, focusing on subscriber metrics to uncover patterns and provide actionable insights. By examining subscriber data, we aim to identify trends, benchmark top performers, and highlight the characteristics of successful streamers. The core objectives of this analysis are to:\n",
    "\n",
    "1. **Understand Subscriber Distribution**: Analyze the distribution of subscribers among streamers to identify disparities and concentration of audience attention.\n",
    "2. **Identify High-Performing Streamers**: Highlight streamers with subscriber counts above the average, setting a benchmark for success on the platform.\n",
    "3. **Calculate Average Subscribers by Streamer**: Provide a clear metric for average audience size, facilitating comparisons and performance assessment.\n",
    "4. **Visualize Key Metrics**: Use data visualization to present findings in an accessible and informative manner, enabling easier interpretation and strategic planning.\n",
    "\n",
    "Through this comprehensive analysis, we aim to equip current and aspiring YouTube streamers with valuable insights to enhance their content creation strategies, grow their subscriber base, and achieve sustained success on the platform. By understanding the dynamics of subscriber growth and engagement, streamers can make informed decisions, improve their content offerings, and ultimately build a loyal and expanding audience."
   ]
  },
  {
   "cell_type": "code",
   "execution_count": null,
   "id": "cff94e98",
   "metadata": {},
   "outputs": [],
   "source": []
  },
  {
   "cell_type": "code",
   "execution_count": 90,
   "id": "5d3496e6",
   "metadata": {},
   "outputs": [],
   "source": [
    "#importing libraries\n",
    "\n",
    "import pandas as pd\n",
    "import matplotlib.pyplot as plt\n",
    "import seaborn as sns"
   ]
  },
  {
   "cell_type": "code",
   "execution_count": 5,
   "id": "b9b3f8d3",
   "metadata": {},
   "outputs": [],
   "source": [
    "#loading(read) the dataset\n",
    "youtube = pd.read_csv(\"youtubers_df.csv\")"
   ]
  },
  {
   "cell_type": "code",
   "execution_count": 6,
   "id": "afff61d9",
   "metadata": {},
   "outputs": [
    {
     "name": "stdout",
     "output_type": "stream",
     "text": [
      "   Rank            Username              Categories  Suscribers  \\\n",
      "0     1             tseries          Música y baile   249500000   \n",
      "1     2             MrBeast      Videojuegos, Humor   183500000   \n",
      "2     3           CoComelon               Educación   165500000   \n",
      "3     4            SETIndia                     NaN   162600000   \n",
      "4     5       KidsDianaShow     Animación, Juguetes   113500000   \n",
      "5     6           PewDiePie  Películas, Videojuegos   111500000   \n",
      "6     7  LikeNastyaofficial                Juguetes   107500000   \n",
      "7     8         VladandNiki     Animación, Juguetes   101400000   \n",
      "8     9     zeemusiccompany          Música y baile    99700000   \n",
      "9    10                 WWE             Videojuegos    97200000   \n",
      "\n",
      "          Country       Visits    Likes  Comments  \\\n",
      "0           India      86200.0     2700        78   \n",
      "1  Estados Unidos  117400000.0  5300000     18500   \n",
      "2         Unknown    7000000.0    24700         0   \n",
      "3           India      15600.0      166         9   \n",
      "4         Unknown    3900000.0    12400         0   \n",
      "5  Estados Unidos    2400000.0   197300      4900   \n",
      "6         Unknown    2600000.0    28000         0   \n",
      "7         Unknown    4100000.0    22100         0   \n",
      "8           India      74300.0     2600        32   \n",
      "9  Estados Unidos     184500.0     6300       214   \n",
      "\n",
      "                                               Links  \n",
      "0  http://youtube.com/channel/UCq-Fj5jknLsUf-MWSy...  \n",
      "1  http://youtube.com/channel/UCX6OQ3DkcsbYNE6H8u...  \n",
      "2  http://youtube.com/channel/UCbCmjCuTUZos6Inko4...  \n",
      "3  http://youtube.com/channel/UCpEhnqL0y41EpW2TvW...  \n",
      "4  http://youtube.com/channel/UCk8GzjMOrta8yxDcKf...  \n",
      "5  http://youtube.com/channel/UC-lHJZR3Gqxm24_Vd_...  \n",
      "6  http://youtube.com/channel/UCJplp5SjeGSdVdwsfb...  \n",
      "7  http://youtube.com/channel/UCvlE5gTbOvjiolFlEm...  \n",
      "8  http://youtube.com/channel/UCFFbwnve3yF62-tVXk...  \n",
      "9  http://youtube.com/channel/UCJ5v_MCY6GNUBTO8-D...  \n"
     ]
    }
   ],
   "source": [
    "#getting the first 10 rows of the dataset\n",
    "print(youtube.head(10))"
   ]
  },
  {
   "cell_type": "markdown",
   "id": "6c8b5e36",
   "metadata": {},
   "source": [
    "EXPLORE THE DATA"
   ]
  },
  {
   "cell_type": "code",
   "execution_count": 7,
   "id": "4f5d4428",
   "metadata": {},
   "outputs": [
    {
     "name": "stdout",
     "output_type": "stream",
     "text": [
      "<class 'pandas.core.frame.DataFrame'>\n",
      "RangeIndex: 1000 entries, 0 to 999\n",
      "Data columns (total 9 columns):\n",
      " #   Column      Non-Null Count  Dtype  \n",
      "---  ------      --------------  -----  \n",
      " 0   Rank        1000 non-null   int64  \n",
      " 1   Username    1000 non-null   object \n",
      " 2   Categories  694 non-null    object \n",
      " 3   Suscribers  1000 non-null   int64  \n",
      " 4   Country     1000 non-null   object \n",
      " 5   Visits      1000 non-null   float64\n",
      " 6   Likes       1000 non-null   int64  \n",
      " 7   Comments    1000 non-null   int64  \n",
      " 8   Links       1000 non-null   object \n",
      "dtypes: float64(1), int64(4), object(4)\n",
      "memory usage: 70.4+ KB\n"
     ]
    }
   ],
   "source": [
    "youtube.info()"
   ]
  },
  {
   "cell_type": "code",
   "execution_count": 8,
   "id": "f440dedf",
   "metadata": {},
   "outputs": [
    {
     "name": "stdout",
     "output_type": "stream",
     "text": [
      "              Rank    Suscribers        Visits         Likes       Comments\n",
      "count  1000.000000  1.000000e+03  1.000000e+03  1.000000e+03    1000.000000\n",
      "mean    500.500000  2.189440e+07  1.209446e+06  5.363259e+04    1288.768000\n",
      "std     288.819436  1.682775e+07  5.229942e+06  2.580457e+05    6778.188308\n",
      "min       1.000000  1.170000e+07  0.000000e+00  0.000000e+00       0.000000\n",
      "25%     250.750000  1.380000e+07  3.197500e+04  4.717500e+02       2.000000\n",
      "50%     500.500000  1.675000e+07  1.744500e+05  3.500000e+03      67.000000\n",
      "75%     750.250000  2.370000e+07  8.654750e+05  2.865000e+04     472.000000\n",
      "max    1000.000000  2.495000e+08  1.174000e+08  5.300000e+06  154000.000000\n"
     ]
    }
   ],
   "source": [
    "print(youtube.describe())"
   ]
  },
  {
   "cell_type": "code",
   "execution_count": 9,
   "id": "65c3c7c0",
   "metadata": {},
   "outputs": [
    {
     "data": {
      "text/plain": [
       "Rank          1000\n",
       "Username      1000\n",
       "Categories     694\n",
       "Suscribers    1000\n",
       "Country       1000\n",
       "Visits        1000\n",
       "Likes         1000\n",
       "Comments      1000\n",
       "Links         1000\n",
       "dtype: int64"
      ]
     },
     "execution_count": 9,
     "metadata": {},
     "output_type": "execute_result"
    }
   ],
   "source": [
    "youtube.count()"
   ]
  },
  {
   "cell_type": "code",
   "execution_count": 10,
   "id": "6ba9265b",
   "metadata": {},
   "outputs": [
    {
     "data": {
      "text/plain": [
       "(1000, 9)"
      ]
     },
     "execution_count": 10,
     "metadata": {},
     "output_type": "execute_result"
    }
   ],
   "source": [
    "youtube.shape"
   ]
  },
  {
   "cell_type": "markdown",
   "id": "1f596a5b",
   "metadata": {},
   "source": [
    "CLEANING THE DATA"
   ]
  },
  {
   "cell_type": "code",
   "execution_count": null,
   "id": "1b067c04",
   "metadata": {},
   "outputs": [],
   "source": [
    "1. Identifying and handling null values\n",
    "2. Identifying and handling duplicates\n",
    "3. Identifying outliers"
   ]
  },
  {
   "cell_type": "code",
   "execution_count": null,
   "id": "aa7b4ae3",
   "metadata": {},
   "outputs": [],
   "source": []
  },
  {
   "cell_type": "code",
   "execution_count": 31,
   "id": "bee7b345",
   "metadata": {},
   "outputs": [
    {
     "data": {
      "text/plain": [
       "Rank             0\n",
       "Streamers        0\n",
       "Categories     306\n",
       "Subscribers      0\n",
       "Country          0\n",
       "Visits           0\n",
       "Likes            0\n",
       "Comments         0\n",
       "Links            0\n",
       "dtype: int64"
      ]
     },
     "execution_count": 31,
     "metadata": {},
     "output_type": "execute_result"
    }
   ],
   "source": [
    "#Identifying null values\n",
    "youtube.isnull().sum()"
   ]
  },
  {
   "cell_type": "code",
   "execution_count": 37,
   "id": "4beab022",
   "metadata": {},
   "outputs": [
    {
     "data": {
      "text/html": [
       "<div>\n",
       "<style scoped>\n",
       "    .dataframe tbody tr th:only-of-type {\n",
       "        vertical-align: middle;\n",
       "    }\n",
       "\n",
       "    .dataframe tbody tr th {\n",
       "        vertical-align: top;\n",
       "    }\n",
       "\n",
       "    .dataframe thead th {\n",
       "        text-align: right;\n",
       "    }\n",
       "</style>\n",
       "<table border=\"1\" class=\"dataframe\">\n",
       "  <thead>\n",
       "    <tr style=\"text-align: right;\">\n",
       "      <th></th>\n",
       "      <th>Rank</th>\n",
       "      <th>Streamers</th>\n",
       "      <th>Categories</th>\n",
       "      <th>Subscribers</th>\n",
       "      <th>Country</th>\n",
       "      <th>Visits</th>\n",
       "      <th>Likes</th>\n",
       "      <th>Comments</th>\n",
       "      <th>Links</th>\n",
       "    </tr>\n",
       "  </thead>\n",
       "  <tbody>\n",
       "    <tr>\n",
       "      <th>0</th>\n",
       "      <td>1</td>\n",
       "      <td>tseries</td>\n",
       "      <td>Música y baile</td>\n",
       "      <td>249500000</td>\n",
       "      <td>India</td>\n",
       "      <td>86200.0</td>\n",
       "      <td>2700</td>\n",
       "      <td>78</td>\n",
       "      <td>http://youtube.com/channel/UCq-Fj5jknLsUf-MWSy...</td>\n",
       "    </tr>\n",
       "    <tr>\n",
       "      <th>1</th>\n",
       "      <td>2</td>\n",
       "      <td>MrBeast</td>\n",
       "      <td>Videojuegos, Humor</td>\n",
       "      <td>183500000</td>\n",
       "      <td>Estados Unidos</td>\n",
       "      <td>117400000.0</td>\n",
       "      <td>5300000</td>\n",
       "      <td>18500</td>\n",
       "      <td>http://youtube.com/channel/UCX6OQ3DkcsbYNE6H8u...</td>\n",
       "    </tr>\n",
       "    <tr>\n",
       "      <th>2</th>\n",
       "      <td>3</td>\n",
       "      <td>CoComelon</td>\n",
       "      <td>Educación</td>\n",
       "      <td>165500000</td>\n",
       "      <td>Unknown</td>\n",
       "      <td>7000000.0</td>\n",
       "      <td>24700</td>\n",
       "      <td>0</td>\n",
       "      <td>http://youtube.com/channel/UCbCmjCuTUZos6Inko4...</td>\n",
       "    </tr>\n",
       "    <tr>\n",
       "      <th>4</th>\n",
       "      <td>5</td>\n",
       "      <td>KidsDianaShow</td>\n",
       "      <td>Animación, Juguetes</td>\n",
       "      <td>113500000</td>\n",
       "      <td>Unknown</td>\n",
       "      <td>3900000.0</td>\n",
       "      <td>12400</td>\n",
       "      <td>0</td>\n",
       "      <td>http://youtube.com/channel/UCk8GzjMOrta8yxDcKf...</td>\n",
       "    </tr>\n",
       "    <tr>\n",
       "      <th>5</th>\n",
       "      <td>6</td>\n",
       "      <td>PewDiePie</td>\n",
       "      <td>Películas, Videojuegos</td>\n",
       "      <td>111500000</td>\n",
       "      <td>Estados Unidos</td>\n",
       "      <td>2400000.0</td>\n",
       "      <td>197300</td>\n",
       "      <td>4900</td>\n",
       "      <td>http://youtube.com/channel/UC-lHJZR3Gqxm24_Vd_...</td>\n",
       "    </tr>\n",
       "    <tr>\n",
       "      <th>...</th>\n",
       "      <td>...</td>\n",
       "      <td>...</td>\n",
       "      <td>...</td>\n",
       "      <td>...</td>\n",
       "      <td>...</td>\n",
       "      <td>...</td>\n",
       "      <td>...</td>\n",
       "      <td>...</td>\n",
       "      <td>...</td>\n",
       "    </tr>\n",
       "    <tr>\n",
       "      <th>989</th>\n",
       "      <td>990</td>\n",
       "      <td>cut</td>\n",
       "      <td>Humor</td>\n",
       "      <td>11700000</td>\n",
       "      <td>Estados Unidos</td>\n",
       "      <td>359000.0</td>\n",
       "      <td>8800</td>\n",
       "      <td>342</td>\n",
       "      <td>http://youtube.com/channel/UCbaGn5VkOVlcRgIWAH...</td>\n",
       "    </tr>\n",
       "    <tr>\n",
       "      <th>990</th>\n",
       "      <td>991</td>\n",
       "      <td>JoeHattab</td>\n",
       "      <td>Películas</td>\n",
       "      <td>11700000</td>\n",
       "      <td>Somalia</td>\n",
       "      <td>1900000.0</td>\n",
       "      <td>98500</td>\n",
       "      <td>2900</td>\n",
       "      <td>http://youtube.com/channel/UCe6eisvsctSPvBhmin...</td>\n",
       "    </tr>\n",
       "    <tr>\n",
       "      <th>991</th>\n",
       "      <td>992</td>\n",
       "      <td>BeAmazed</td>\n",
       "      <td>Educación</td>\n",
       "      <td>11700000</td>\n",
       "      <td>Estados Unidos</td>\n",
       "      <td>477800.0</td>\n",
       "      <td>9900</td>\n",
       "      <td>556</td>\n",
       "      <td>http://youtube.com/channel/UCkQO3QsgTpNTsOw6uj...</td>\n",
       "    </tr>\n",
       "    <tr>\n",
       "      <th>997</th>\n",
       "      <td>998</td>\n",
       "      <td>LittleAngelIndonesia</td>\n",
       "      <td>Música y baile</td>\n",
       "      <td>11700000</td>\n",
       "      <td>Unknown</td>\n",
       "      <td>211400.0</td>\n",
       "      <td>745</td>\n",
       "      <td>0</td>\n",
       "      <td>http://youtube.com/channel/UCdrHrQf0o0TO8YDntX...</td>\n",
       "    </tr>\n",
       "    <tr>\n",
       "      <th>999</th>\n",
       "      <td>1000</td>\n",
       "      <td>OneindiaHindi</td>\n",
       "      <td>Noticias y Política</td>\n",
       "      <td>11700000</td>\n",
       "      <td>India</td>\n",
       "      <td>2200.0</td>\n",
       "      <td>31</td>\n",
       "      <td>1</td>\n",
       "      <td>http://youtube.com/channel/UCOjgc1p2hJ4GZi6pQQ...</td>\n",
       "    </tr>\n",
       "  </tbody>\n",
       "</table>\n",
       "<p>694 rows × 9 columns</p>\n",
       "</div>"
      ],
      "text/plain": [
       "     Rank             Streamers              Categories  Subscribers  \\\n",
       "0       1               tseries          Música y baile    249500000   \n",
       "1       2               MrBeast      Videojuegos, Humor    183500000   \n",
       "2       3             CoComelon               Educación    165500000   \n",
       "4       5         KidsDianaShow     Animación, Juguetes    113500000   \n",
       "5       6             PewDiePie  Películas, Videojuegos    111500000   \n",
       "..    ...                   ...                     ...          ...   \n",
       "989   990                   cut                   Humor     11700000   \n",
       "990   991             JoeHattab               Películas     11700000   \n",
       "991   992              BeAmazed               Educación     11700000   \n",
       "997   998  LittleAngelIndonesia          Música y baile     11700000   \n",
       "999  1000         OneindiaHindi     Noticias y Política     11700000   \n",
       "\n",
       "            Country       Visits    Likes  Comments  \\\n",
       "0             India      86200.0     2700        78   \n",
       "1    Estados Unidos  117400000.0  5300000     18500   \n",
       "2           Unknown    7000000.0    24700         0   \n",
       "4           Unknown    3900000.0    12400         0   \n",
       "5    Estados Unidos    2400000.0   197300      4900   \n",
       "..              ...          ...      ...       ...   \n",
       "989  Estados Unidos     359000.0     8800       342   \n",
       "990         Somalia    1900000.0    98500      2900   \n",
       "991  Estados Unidos     477800.0     9900       556   \n",
       "997         Unknown     211400.0      745         0   \n",
       "999           India       2200.0       31         1   \n",
       "\n",
       "                                                 Links  \n",
       "0    http://youtube.com/channel/UCq-Fj5jknLsUf-MWSy...  \n",
       "1    http://youtube.com/channel/UCX6OQ3DkcsbYNE6H8u...  \n",
       "2    http://youtube.com/channel/UCbCmjCuTUZos6Inko4...  \n",
       "4    http://youtube.com/channel/UCk8GzjMOrta8yxDcKf...  \n",
       "5    http://youtube.com/channel/UC-lHJZR3Gqxm24_Vd_...  \n",
       "..                                                 ...  \n",
       "989  http://youtube.com/channel/UCbaGn5VkOVlcRgIWAH...  \n",
       "990  http://youtube.com/channel/UCe6eisvsctSPvBhmin...  \n",
       "991  http://youtube.com/channel/UCkQO3QsgTpNTsOw6uj...  \n",
       "997  http://youtube.com/channel/UCdrHrQf0o0TO8YDntX...  \n",
       "999  http://youtube.com/channel/UCOjgc1p2hJ4GZi6pQQ...  \n",
       "\n",
       "[694 rows x 9 columns]"
      ]
     },
     "execution_count": 37,
     "metadata": {},
     "output_type": "execute_result"
    }
   ],
   "source": [
    "#Dsropping null values\n",
    "youtube.dropna()"
   ]
  },
  {
   "cell_type": "code",
   "execution_count": 22,
   "id": "4ca7d85e",
   "metadata": {},
   "outputs": [
    {
     "name": "stdout",
     "output_type": "stream",
     "text": [
      "\n",
      "Dataset after removing duplicates:      Rank              Username           Categories  Suscribers  \\\n",
      "0       1               tseries       Música y baile   249500000   \n",
      "1       2               MrBeast   Videojuegos, Humor   183500000   \n",
      "2       3             CoComelon            Educación   165500000   \n",
      "3       4              SETIndia                  NaN   162600000   \n",
      "4       5         KidsDianaShow  Animación, Juguetes   113500000   \n",
      "..    ...                   ...                  ...         ...   \n",
      "995   996          hamzymukbang                  NaN    11700000   \n",
      "996   997            Adaahqueen                  NaN    11700000   \n",
      "997   998  LittleAngelIndonesia       Música y baile    11700000   \n",
      "998   999          PenMultiplex                  NaN    11700000   \n",
      "999  1000         OneindiaHindi  Noticias y Política    11700000   \n",
      "\n",
      "            Country       Visits    Likes  Comments  \\\n",
      "0             India      86200.0     2700        78   \n",
      "1    Estados Unidos  117400000.0  5300000     18500   \n",
      "2           Unknown    7000000.0    24700         0   \n",
      "3             India      15600.0      166         9   \n",
      "4           Unknown    3900000.0    12400         0   \n",
      "..              ...          ...      ...       ...   \n",
      "995  Estados Unidos     397400.0    14000       124   \n",
      "996           India    1100000.0    92500       164   \n",
      "997         Unknown     211400.0      745         0   \n",
      "998           India      14000.0       81         1   \n",
      "999           India       2200.0       31         1   \n",
      "\n",
      "                                                 Links  \n",
      "0    http://youtube.com/channel/UCq-Fj5jknLsUf-MWSy...  \n",
      "1    http://youtube.com/channel/UCX6OQ3DkcsbYNE6H8u...  \n",
      "2    http://youtube.com/channel/UCbCmjCuTUZos6Inko4...  \n",
      "3    http://youtube.com/channel/UCpEhnqL0y41EpW2TvW...  \n",
      "4    http://youtube.com/channel/UCk8GzjMOrta8yxDcKf...  \n",
      "..                                                 ...  \n",
      "995  http://youtube.com/channel/UCPKNKldggioffXPkSm...  \n",
      "996  http://youtube.com/channel/UCk3fFpqI5kDMf__mUP...  \n",
      "997  http://youtube.com/channel/UCdrHrQf0o0TO8YDntX...  \n",
      "998  http://youtube.com/channel/UCObyBrdrtQ20BU9PxH...  \n",
      "999  http://youtube.com/channel/UCOjgc1p2hJ4GZi6pQQ...  \n",
      "\n",
      "[1000 rows x 9 columns]\n"
     ]
    }
   ],
   "source": [
    "#Removing the duplicates\n",
    "youtube_no_duplicates = youtube.drop_duplicates()\n",
    "print(\"\\nDataset after removing duplicates:\", youtube_no_duplicates)"
   ]
  },
  {
   "cell_type": "code",
   "execution_count": 27,
   "id": "715deb14",
   "metadata": {},
   "outputs": [
    {
     "name": "stdout",
     "output_type": "stream",
     "text": [
      "\n",
      "Dataset after removing duplicates:      Rank             Streamers           Categories  Subscribers  \\\n",
      "0       1               tseries       Música y baile    249500000   \n",
      "1       2               MrBeast   Videojuegos, Humor    183500000   \n",
      "2       3             CoComelon            Educación    165500000   \n",
      "3       4              SETIndia                  NaN    162600000   \n",
      "4       5         KidsDianaShow  Animación, Juguetes    113500000   \n",
      "..    ...                   ...                  ...          ...   \n",
      "995   996          hamzymukbang                  NaN     11700000   \n",
      "996   997            Adaahqueen                  NaN     11700000   \n",
      "997   998  LittleAngelIndonesia       Música y baile     11700000   \n",
      "998   999          PenMultiplex                  NaN     11700000   \n",
      "999  1000         OneindiaHindi  Noticias y Política     11700000   \n",
      "\n",
      "            Country       Visits    Likes  Comments  \\\n",
      "0             India      86200.0     2700        78   \n",
      "1    Estados Unidos  117400000.0  5300000     18500   \n",
      "2           Unknown    7000000.0    24700         0   \n",
      "3             India      15600.0      166         9   \n",
      "4           Unknown    3900000.0    12400         0   \n",
      "..              ...          ...      ...       ...   \n",
      "995  Estados Unidos     397400.0    14000       124   \n",
      "996           India    1100000.0    92500       164   \n",
      "997         Unknown     211400.0      745         0   \n",
      "998           India      14000.0       81         1   \n",
      "999           India       2200.0       31         1   \n",
      "\n",
      "                                                 Links  \n",
      "0    http://youtube.com/channel/UCq-Fj5jknLsUf-MWSy...  \n",
      "1    http://youtube.com/channel/UCX6OQ3DkcsbYNE6H8u...  \n",
      "2    http://youtube.com/channel/UCbCmjCuTUZos6Inko4...  \n",
      "3    http://youtube.com/channel/UCpEhnqL0y41EpW2TvW...  \n",
      "4    http://youtube.com/channel/UCk8GzjMOrta8yxDcKf...  \n",
      "..                                                 ...  \n",
      "995  http://youtube.com/channel/UCPKNKldggioffXPkSm...  \n",
      "996  http://youtube.com/channel/UCk3fFpqI5kDMf__mUP...  \n",
      "997  http://youtube.com/channel/UCdrHrQf0o0TO8YDntX...  \n",
      "998  http://youtube.com/channel/UCObyBrdrtQ20BU9PxH...  \n",
      "999  http://youtube.com/channel/UCOjgc1p2hJ4GZi6pQQ...  \n",
      "\n",
      "[1000 rows x 9 columns]\n"
     ]
    }
   ],
   "source": [
    "youtube_no_duplicates = youtube.drop_duplicates()\n",
    "print(\"\\nDataset after removing duplicates:\", youtube_no_duplicates)"
   ]
  },
  {
   "cell_type": "code",
   "execution_count": 121,
   "id": "cfe42917",
   "metadata": {},
   "outputs": [
    {
     "name": "stdout",
     "output_type": "stream",
     "text": [
      "   Rank           Streamers              Categories  Subscribers  \\\n",
      "0     1             tseries          Música y baile    249500000   \n",
      "1     2             MrBeast      Videojuegos, Humor    183500000   \n",
      "2     3           CoComelon               Educación    165500000   \n",
      "3     4            SETIndia                     NaN    162600000   \n",
      "4     5       KidsDianaShow     Animación, Juguetes    113500000   \n",
      "5     6           PewDiePie  Películas, Videojuegos    111500000   \n",
      "6     7  LikeNastyaofficial                Juguetes    107500000   \n",
      "7     8         VladandNiki     Animación, Juguetes    101400000   \n",
      "8     9     zeemusiccompany          Música y baile     99700000   \n",
      "9    10                 WWE             Videojuegos     97200000   \n",
      "\n",
      "          Country       Visits    Likes  Comments  \\\n",
      "0           India      86200.0     2700        78   \n",
      "1  Estados Unidos  117400000.0  5300000     18500   \n",
      "2         Unknown    7000000.0    24700         0   \n",
      "3           India      15600.0      166         9   \n",
      "4         Unknown    3900000.0    12400         0   \n",
      "5  Estados Unidos    2400000.0   197300      4900   \n",
      "6         Unknown    2600000.0    28000         0   \n",
      "7         Unknown    4100000.0    22100         0   \n",
      "8           India      74300.0     2600        32   \n",
      "9  Estados Unidos     184500.0     6300       214   \n",
      "\n",
      "                                               Links  Subs Greator than avg  \n",
      "0  http://youtube.com/channel/UCq-Fj5jknLsUf-MWSy...                  False  \n",
      "1  http://youtube.com/channel/UCX6OQ3DkcsbYNE6H8u...                  False  \n",
      "2  http://youtube.com/channel/UCbCmjCuTUZos6Inko4...                  False  \n",
      "3  http://youtube.com/channel/UCpEhnqL0y41EpW2TvW...                  False  \n",
      "4  http://youtube.com/channel/UCk8GzjMOrta8yxDcKf...                  False  \n",
      "5  http://youtube.com/channel/UC-lHJZR3Gqxm24_Vd_...                  False  \n",
      "6  http://youtube.com/channel/UCJplp5SjeGSdVdwsfb...                  False  \n",
      "7  http://youtube.com/channel/UCvlE5gTbOvjiolFlEm...                  False  \n",
      "8  http://youtube.com/channel/UCFFbwnve3yF62-tVXk...                  False  \n",
      "9  http://youtube.com/channel/UCJ5v_MCY6GNUBTO8-D...                  False  \n"
     ]
    }
   ],
   "source": [
    "#Renaming columns\n",
    "\n",
    "youtube.rename(columns={'Suscribers' : 'Subscribers'}, inplace=True)\n",
    "youtube.rename(columns={'Username' : 'Streamers'}, inplace=True)\n",
    "\n",
    "print(youtube.head(10))"
   ]
  },
  {
   "cell_type": "code",
   "execution_count": 36,
   "id": "93ba6453",
   "metadata": {},
   "outputs": [
    {
     "data": {
      "text/plain": [
       "<Axes: >"
      ]
     },
     "execution_count": 36,
     "metadata": {},
     "output_type": "execute_result"
    },
    {
     "data": {
      "image/png": "[encoded data removed]",
      "text/plain": [
       "<Figure size 640x480 with 1 Axes>"
      ]
     },
     "metadata": {},
     "output_type": "display_data"
    }
   ],
   "source": [
    "sns.boxplot(data=youtube, color=\"yellow\")"
   ]
  },
  {
   "cell_type": "code",
   "execution_count": null,
   "id": "45efe194",
   "metadata": {},
   "outputs": [],
   "source": []
  },
  {
   "cell_type": "markdown",
   "id": "9511fcf0",
   "metadata": {},
   "source": [
    "# ANALYSING TRENDS ON THE DATASET"
   ]
  },
  {
   "cell_type": "markdown",
   "id": "3699bf06",
   "metadata": {},
   "source": [
    "TOP 10 YOUTUBE STREAMERS WITH SUBSCRIBERS"
   ]
  },
  {
   "cell_type": "code",
   "execution_count": 71,
   "id": "7e827cb6",
   "metadata": {},
   "outputs": [
    {
     "data": {
      "text/plain": [
       "Streamers\n",
       "tseries               249500000\n",
       "MrBeast               183500000\n",
       "CoComelon             165500000\n",
       "SETIndia              162600000\n",
       "KidsDianaShow         113500000\n",
       "PewDiePie             111500000\n",
       "LikeNastyaofficial    107500000\n",
       "VladandNiki           101400000\n",
       "zeemusiccompany        99700000\n",
       "WWE                    97200000\n",
       "Name: Subscribers, dtype: int64"
      ]
     },
     "execution_count": 71,
     "metadata": {},
     "output_type": "execute_result"
    }
   ],
   "source": [
    "youtube.groupby('Streamers')['Subscribers'].sum().sort_values(ascending=False).head(10)"
   ]
  },
  {
   "cell_type": "code",
   "execution_count": null,
   "id": "e838f95d",
   "metadata": {},
   "outputs": [],
   "source": []
  },
  {
   "cell_type": "markdown",
   "id": "df3e01aa",
   "metadata": {},
   "source": [
    "TOP 10 YOUTUBE STREAMERS WITH VIEWS"
   ]
  },
  {
   "cell_type": "code",
   "execution_count": 70,
   "id": "a0e1b6e6",
   "metadata": {},
   "outputs": [
    {
     "data": {
      "text/plain": [
       "Streamers\n",
       "MrBeast                  117400000.0\n",
       "MrBeast2                  83100000.0\n",
       "DaFuqBoom                 52700000.0\n",
       "VillageCookingChannel     21500000.0\n",
       "BeastPhilanthropy         21500000.0\n",
       "jaanvipatel               19100000.0\n",
       "_vector_                  15400000.0\n",
       "dojacat                   13600000.0\n",
       "alfredolarin              12900000.0\n",
       "NickPro                   12200000.0\n",
       "Name: Visits, dtype: float64"
      ]
     },
     "execution_count": 70,
     "metadata": {},
     "output_type": "execute_result"
    }
   ],
   "source": [
    "youtube.groupby('Streamers')['Visits'].sum().sort_values(ascending=False).head(10)"
   ]
  },
  {
   "cell_type": "code",
   "execution_count": null,
   "id": "7137dfdc",
   "metadata": {},
   "outputs": [],
   "source": []
  },
  {
   "cell_type": "markdown",
   "id": "88b8a786",
   "metadata": {},
   "source": [
    "TOP 20 MOST POPULAR CATEGORIES"
   ]
  },
  {
   "cell_type": "code",
   "execution_count": 139,
   "id": "a4f8300e",
   "metadata": {},
   "outputs": [
    {
     "data": {
      "text/plain": [
       "Categories\n",
       "Música y baile               160\n",
       "Películas, Animación          61\n",
       "Música y baile, Películas     41\n",
       "Vlogs diarios                 37\n",
       "Noticias y Política           36\n",
       "Películas, Humor              34\n",
       "Animación, Videojuegos        34\n",
       "Animación, Juguetes           29\n",
       "Animación, Humor              27\n",
       "Películas                     24\n",
       "Educación                     24\n",
       "Animación                     22\n",
       "Videojuegos                   19\n",
       "Videojuegos, Humor            17\n",
       "Música y baile, Animación     16\n",
       "Ciencia y tecnología          14\n",
       "Comida y bebida               12\n",
       "Humor                         10\n",
       "Juguetes                      10\n",
       "Películas, Juguetes            9\n",
       "Name: count, dtype: int64"
      ]
     },
     "execution_count": 139,
     "metadata": {},
     "output_type": "execute_result"
    }
   ],
   "source": [
    "youtube['Categories'].value_counts().sort_values(ascending=False).head(20)"
   ]
  },
  {
   "cell_type": "code",
   "execution_count": null,
   "id": "15a67e6d",
   "metadata": {},
   "outputs": [],
   "source": []
  },
  {
   "cell_type": "markdown",
   "id": "f03fb319",
   "metadata": {},
   "source": [
    "TOP 20 YOUTUBE CHANNELS WITH THEIR LINKS"
   ]
  },
  {
   "cell_type": "code",
   "execution_count": 72,
   "id": "5b829236",
   "metadata": {},
   "outputs": [
    {
     "data": {
      "text/plain": [
       "Streamers             Links                                              \n",
       "tseries               http://youtube.com/channel/UCq-Fj5jknLsUf-MWSy4_brA    249500000\n",
       "MrBeast               http://youtube.com/channel/UCX6OQ3DkcsbYNE6H8uQQuVA    183500000\n",
       "CoComelon             http://youtube.com/channel/UCbCmjCuTUZos6Inko4u57UQ    165500000\n",
       "SETIndia              http://youtube.com/channel/UCpEhnqL0y41EpW2TvWAHD7Q    162600000\n",
       "KidsDianaShow         http://youtube.com/channel/UCk8GzjMOrta8yxDcKfylJYw    113500000\n",
       "PewDiePie             http://youtube.com/channel/UC-lHJZR3Gqxm24_Vd_AJ5Yw    111500000\n",
       "LikeNastyaofficial    http://youtube.com/channel/UCJplp5SjeGSdVdwsfb9Q7lQ    107500000\n",
       "VladandNiki           http://youtube.com/channel/UCvlE5gTbOvjiolFlEm-c_Ow    101400000\n",
       "zeemusiccompany       http://youtube.com/channel/UCFFbwnve3yF62-tVXkTyHqg     99700000\n",
       "WWE                   http://youtube.com/channel/UCJ5v_MCY6GNUBTO8-D3XoAg     97200000\n",
       "BLACKPINK             http://youtube.com/channel/UCOmHUn--16B90oW2L6FRR3A     91300000\n",
       "GoldminesTelefilms    http://youtube.com/channel/UCyoXW-Dse7fURq30EWl_CUA     89700000\n",
       "SonySAB               http://youtube.com/channel/UC6-F5tO8uklgE9Zy8IvbdFw     85400000\n",
       "5MinuteCraftsYouTube  http://youtube.com/channel/UC295-Dw_tDNtZXFeAPAW6Aw     80300000\n",
       "BTS                   http://youtube.com/channel/UCLkAepWjdylmXSltofFvsYQ     76500000\n",
       "HYBELABELS            http://youtube.com/channel/UC3IZKseVpdzPSBaWxBxundA     72700000\n",
       "zeetv                 http://youtube.com/channel/UCppHT7SZKKvar4Oc9J4oljQ     72500000\n",
       "Pinkfong              http://youtube.com/channel/UCcdwLMPsaU2ezNSJU1nFoBQ     69600000\n",
       "ChuChuTV              http://youtube.com/channel/UCBnZ16ahKA2DZ_T5W0FPUXg     67500000\n",
       "KondZilla             http://youtube.com/channel/UCffDXn7ycAzwL2LDlbyWOTw     66600000\n",
       "Name: Subscribers, dtype: int64"
      ]
     },
     "execution_count": 72,
     "metadata": {},
     "output_type": "execute_result"
    }
   ],
   "source": [
    "youtube.groupby([\"Streamers\", \"Links\"])[\"Subscribers\"].sum().sort_values(ascending=False).head(20)"
   ]
  },
  {
   "cell_type": "code",
   "execution_count": null,
   "id": "95af361e",
   "metadata": {},
   "outputs": [],
   "source": []
  },
  {
   "cell_type": "markdown",
   "id": "9d50ad2f",
   "metadata": {},
   "source": [
    "DISTRIBUTION OF STREAMERS BY COUNTRY AND CATEGORY"
   ]
  },
  {
   "cell_type": "code",
   "execution_count": 43,
   "id": "2ec92542",
   "metadata": {},
   "outputs": [
    {
     "data": {
      "text/plain": [
       "Streamers           Country         Categories            \n",
       "tseries             India           Música y baile            249500000\n",
       "MrBeast             Estados Unidos  Videojuegos, Humor        183500000\n",
       "CoComelon           Unknown         Educación                 165500000\n",
       "KidsDianaShow       Unknown         Animación, Juguetes       113500000\n",
       "PewDiePie           Estados Unidos  Películas, Videojuegos    111500000\n",
       "LikeNastyaofficial  Unknown         Juguetes                  107500000\n",
       "VladandNiki         Unknown         Animación, Juguetes       101400000\n",
       "zeemusiccompany     India           Música y baile             99700000\n",
       "WWE                 Estados Unidos  Videojuegos                97200000\n",
       "BLACKPINK           Estados Unidos  Música y baile             91300000\n",
       "Name: Subscribers, dtype: int64"
      ]
     },
     "execution_count": 43,
     "metadata": {},
     "output_type": "execute_result"
    }
   ],
   "source": [
    "youtube.groupby(['Streamers', 'Country', 'Categories'])['Subscribers'].sum().sort_values(ascending=False).head(10)"
   ]
  },
  {
   "cell_type": "code",
   "execution_count": null,
   "id": "b20d2c15",
   "metadata": {},
   "outputs": [],
   "source": []
  },
  {
   "cell_type": "markdown",
   "id": "30ae8367",
   "metadata": {},
   "source": [
    "CATEGORIES CONTENT"
   ]
  },
  {
   "cell_type": "code",
   "execution_count": 45,
   "id": "f235ba14",
   "metadata": {},
   "outputs": [
    {
     "data": {
      "text/plain": [
       "Categories\n",
       "ASMR                                  1\n",
       "ASMR, Comida y bebida                 1\n",
       "Viajes, Espectáculos                  1\n",
       "Música y baile, Juguetes              1\n",
       "Animación, Humor, Juguetes            1\n",
       "Juguetes, DIY y Life Hacks            1\n",
       "Belleza, Moda                         1\n",
       "Diseño/arte, DIY y Life Hacks         1\n",
       "Diseño/arte, Belleza                  1\n",
       "Diseño/arte                           1\n",
       "Comida y bebida, Juguetes             1\n",
       "Comida y bebida, Salud y autoayuda    1\n",
       "DIY y Life Hacks, Juguetes            1\n",
       "Moda                                  2\n",
       "Educación, Juguetes                   2\n",
       "Fitness                               2\n",
       "Coches y vehículos                    2\n",
       "Animales y mascotas                   2\n",
       "Videojuegos, Juguetes                 3\n",
       "Fitness, Salud y autoayuda            3\n",
       "Name: Streamers, dtype: int64"
      ]
     },
     "execution_count": 45,
     "metadata": {},
     "output_type": "execute_result"
    }
   ],
   "source": [
    "youtube.groupby('Categories')['Streamers'].count().sort_values(ascending=True).head(20)"
   ]
  },
  {
   "cell_type": "code",
   "execution_count": null,
   "id": "02089aef",
   "metadata": {},
   "outputs": [],
   "source": []
  },
  {
   "cell_type": "markdown",
   "id": "71b94427",
   "metadata": {},
   "source": [
    "PERFORMANCE MATRIX"
   ]
  },
  {
   "cell_type": "code",
   "execution_count": 124,
   "id": "b010c872",
   "metadata": {},
   "outputs": [
    {
     "name": "stdout",
     "output_type": "stream",
     "text": [
      "21894400.0\n"
     ]
    }
   ],
   "source": [
    "Avg_subs = youtube[\"Subscribers\"].mean()\n",
    "print(Avg_subs)"
   ]
  },
  {
   "cell_type": "code",
   "execution_count": 125,
   "id": "c89ba486",
   "metadata": {},
   "outputs": [
    {
     "data": {
      "text/plain": [
       "1209446.3155"
      ]
     },
     "execution_count": 125,
     "metadata": {},
     "output_type": "execute_result"
    }
   ],
   "source": [
    "youtube[\"Visits\"].mean()"
   ]
  },
  {
   "cell_type": "code",
   "execution_count": 126,
   "id": "982e6dd5",
   "metadata": {},
   "outputs": [
    {
     "data": {
      "text/plain": [
       "53632.592"
      ]
     },
     "execution_count": 126,
     "metadata": {},
     "output_type": "execute_result"
    }
   ],
   "source": [
    "youtube[\"Likes\"].mean()"
   ]
  },
  {
   "cell_type": "code",
   "execution_count": 127,
   "id": "0c35464e",
   "metadata": {},
   "outputs": [
    {
     "data": {
      "text/plain": [
       "1288.768"
      ]
     },
     "execution_count": 127,
     "metadata": {},
     "output_type": "execute_result"
    }
   ],
   "source": [
    "youtube[\"Comments\"].mean()"
   ]
  },
  {
   "cell_type": "code",
   "execution_count": null,
   "id": "1ce09d57",
   "metadata": {},
   "outputs": [],
   "source": []
  },
  {
   "cell_type": "markdown",
   "id": "ab2dd277",
   "metadata": {},
   "source": [
    "CORRELATION BETWEEN NUMBER OF SUBSCRIBERS, LIKES AND COMMENTS"
   ]
  },
  {
   "cell_type": "code",
   "execution_count": 128,
   "id": "a2ee60e4",
   "metadata": {},
   "outputs": [
    {
     "name": "stdout",
     "output_type": "stream",
     "text": [
      "The correlation matrix:\n",
      "              Subscribers     Likes  Comments\n",
      "Subscribers     1.000000  0.211639  0.036350\n",
      "Likes           0.211639  1.000000  0.325911\n",
      "Comments        0.036350  0.325911  1.000000\n"
     ]
    }
   ],
   "source": [
    "correlation_matrix = youtube[['Subscribers', 'Likes', 'Comments']].corr()\n",
    "print(\"The correlation matrix:\\n\", correlation_matrix)"
   ]
  },
  {
   "cell_type": "code",
   "execution_count": null,
   "id": "53785eb9",
   "metadata": {},
   "outputs": [],
   "source": []
  },
  {
   "cell_type": "markdown",
   "id": "3c61d85b",
   "metadata": {},
   "source": [
    "# DATA VISUALIZATION:"
   ]
  },
  {
   "cell_type": "code",
   "execution_count": 135,
   "id": "7507d523",
   "metadata": {},
   "outputs": [
    {
     "data": {
      "image/png": "[encoded data removed]",
      "text/plain": [
       "<Figure size 800x400 with 2 Axes>"
      ]
     },
     "metadata": {},
     "output_type": "display_data"
    }
   ],
   "source": [
    "#Plotting a heatmap for corr between number of Subscribers, Likes and Comments\n",
    "\n",
    "plt.figure(figsize=[8, 4])\n",
    "sns.heatmap(correlation_matrix, annot=True, cbar=True)\n",
    "plt.title(\"Correlation Heatmap:\\n\")\n",
    "plt.show()"
   ]
  },
  {
   "cell_type": "code",
   "execution_count": null,
   "id": "e5e46009",
   "metadata": {},
   "outputs": [],
   "source": []
  },
  {
   "cell_type": "code",
   "execution_count": 138,
   "id": "485a11a5",
   "metadata": {},
   "outputs": [
    {
     "data": {
      "image/png": "[encoded data removed]",
      "text/plain": [
       "<Figure size 1200x800 with 1 Axes>"
      ]
     },
     "metadata": {},
     "output_type": "display_data"
    }
   ],
   "source": [
    "#Subscriber Distribution by Country\n",
    "\n",
    "plt.figure(figsize=[12, 8])\n",
    "sns.barplot(data=youtube, x=\"Subscribers\", y=\"Country\", color=\"Red\")\n",
    "plt.title(\"Subscriber Distribution by country:\")\n",
    "plt.show()"
   ]
  },
  {
   "cell_type": "code",
   "execution_count": null,
   "id": "c076aeba",
   "metadata": {},
   "outputs": [],
   "source": []
  },
  {
   "cell_type": "code",
   "execution_count": 131,
   "id": "ad8fdd5b",
   "metadata": {},
   "outputs": [
    {
     "data": {
      "image/png": "[encoded data removed]",
      "text/plain": [
       "<Figure size 1000x1000 with 1 Axes>"
      ]
     },
     "metadata": {},
     "output_type": "display_data"
    }
   ],
   "source": [
    "#Subscriber Distribution by category\n",
    "\n",
    "plt.figure(figsize=[10,10])\n",
    "sns.barplot(data=youtube, x=\"Subscribers\", y=\"Categories\", color=\"blue\")\n",
    "plt.title(\"Subscriber Distribution by Category:\\n\")\n",
    "plt.xlabel(\"Subscribers (in millions)\")\n",
    "plt.ylabel(\"Category\")\n",
    "plt.show()"
   ]
  },
  {
   "cell_type": "code",
   "execution_count": null,
   "id": "8bf30b94",
   "metadata": {},
   "outputs": [],
   "source": []
  },
  {
   "cell_type": "markdown",
   "id": "1b45dec2",
   "metadata": {},
   "source": [
    "VISUALISATION FOR STREAMERS WITH ABOVE AVERAGE PERFORMANCE"
   ]
  },
  {
   "cell_type": "code",
   "execution_count": 142,
   "id": "ad8cb90d",
   "metadata": {},
   "outputs": [
    {
     "data": {
      "text/plain": [
       "0      249500000\n",
       "1      183500000\n",
       "2      165500000\n",
       "3      162600000\n",
       "4      113500000\n",
       "         ...    \n",
       "298     21900000\n",
       "299     21900000\n",
       "300     21900000\n",
       "301     21900000\n",
       "302     21900000\n",
       "Name: Subscribers, Length: 303, dtype: int64"
      ]
     },
     "execution_count": 142,
     "metadata": {},
     "output_type": "execute_result"
    }
   ],
   "source": [
    "Most_avg_subscribers = youtube[youtube[\"Subscribers\"] > youtube[\"Subscribers\"].mean()][\"Subscribers\"]\n",
    "Most_avg_subscribers"
   ]
  },
  {
   "cell_type": "code",
   "execution_count": 143,
   "id": "43bb33fc",
   "metadata": {},
   "outputs": [
    {
     "data": {
      "text/plain": [
       "0      249500000.0\n",
       "1      183500000.0\n",
       "2      165500000.0\n",
       "3      162600000.0\n",
       "4      113500000.0\n",
       "          ...     \n",
       "995     11700000.0\n",
       "996     11700000.0\n",
       "997     11700000.0\n",
       "998     11700000.0\n",
       "999     11700000.0\n",
       "Name: Subscribers, Length: 1000, dtype: float64"
      ]
     },
     "execution_count": 143,
     "metadata": {},
     "output_type": "execute_result"
    }
   ],
   "source": [
    "avg_subscribers_by_streamer = youtube.groupby(\"Streamers\")[\"Subscribers\"].transform('mean')\n",
    "avg_subscribers_by_streamer"
   ]
  },
  {
   "cell_type": "code",
   "execution_count": null,
   "id": "aa453410",
   "metadata": {},
   "outputs": [],
   "source": []
  },
  {
   "cell_type": "code",
   "execution_count": 146,
   "id": "550c5078",
   "metadata": {},
   "outputs": [
    {
     "data": {
      "text/plain": [
       "1      5300000\n",
       "5       197300\n",
       "10      146900\n",
       "14      180300\n",
       "26      156500\n",
       "        ...   \n",
       "983      68700\n",
       "985     109200\n",
       "990      98500\n",
       "993      66700\n",
       "996      92500\n",
       "Name: Likes, Length: 180, dtype: int64"
      ]
     },
     "execution_count": 146,
     "metadata": {},
     "output_type": "execute_result"
    }
   ],
   "source": [
    "Most_avg_Likes = youtube[youtube[\"Likes\"] > youtube[\"Likes\"].mean()][\"Likes\"]\n",
    "Most_avg_Likes"
   ]
  },
  {
   "cell_type": "code",
   "execution_count": 147,
   "id": "dfe2fcb0",
   "metadata": {},
   "outputs": [
    {
     "data": {
      "text/plain": [
       "0         2700.0\n",
       "1      5300000.0\n",
       "2        24700.0\n",
       "3          166.0\n",
       "4        12400.0\n",
       "         ...    \n",
       "995      14000.0\n",
       "996      92500.0\n",
       "997        745.0\n",
       "998         81.0\n",
       "999         31.0\n",
       "Name: Likes, Length: 1000, dtype: float64"
      ]
     },
     "execution_count": 147,
     "metadata": {},
     "output_type": "execute_result"
    }
   ],
   "source": [
    "avg_likes_by_streamer = youtube.groupby(\"Likes\")[\"Likes\"].transform('mean')\n",
    "avg_likes_by_streamer"
   ]
  },
  {
   "cell_type": "code",
   "execution_count": null,
   "id": "43253715",
   "metadata": {},
   "outputs": [],
   "source": []
  },
  {
   "cell_type": "code",
   "execution_count": 148,
   "id": "7f0886bf",
   "metadata": {},
   "outputs": [
    {
     "data": {
      "text/plain": [
       "1      117400000.0\n",
       "2        7000000.0\n",
       "4        3900000.0\n",
       "5        2400000.0\n",
       "6        2600000.0\n",
       "          ...     \n",
       "978      2100000.0\n",
       "983      1600000.0\n",
       "985      1700000.0\n",
       "986      2100000.0\n",
       "990      1900000.0\n",
       "Name: Visits, Length: 204, dtype: float64"
      ]
     },
     "execution_count": 148,
     "metadata": {},
     "output_type": "execute_result"
    }
   ],
   "source": [
    "Most_avg_visits = youtube[youtube[\"Visits\"] > youtube[\"Visits\"].mean()][\"Visits\"]\n",
    "Most_avg_visits"
   ]
  },
  {
   "cell_type": "code",
   "execution_count": 149,
   "id": "3b206402",
   "metadata": {},
   "outputs": [
    {
     "data": {
      "text/plain": [
       "0          86200.0\n",
       "1      117400000.0\n",
       "2        7000000.0\n",
       "3          15600.0\n",
       "4        3900000.0\n",
       "          ...     \n",
       "995       397400.0\n",
       "996      1100000.0\n",
       "997       211400.0\n",
       "998        14000.0\n",
       "999         2200.0\n",
       "Name: Visits, Length: 1000, dtype: float64"
      ]
     },
     "execution_count": 149,
     "metadata": {},
     "output_type": "execute_result"
    }
   ],
   "source": [
    "avg_visits_by_streamer = youtube.groupby(\"Visits\")[\"Visits\"].transform('mean')\n",
    "avg_visits_by_streamer"
   ]
  },
  {
   "cell_type": "code",
   "execution_count": null,
   "id": "bca7855d",
   "metadata": {},
   "outputs": [],
   "source": []
  },
  {
   "cell_type": "code",
   "execution_count": 150,
   "id": "bbe38f62",
   "metadata": {},
   "outputs": [
    {
     "data": {
      "text/plain": [
       "1      18500\n",
       "5       4900\n",
       "10      3400\n",
       "14      7400\n",
       "26      4200\n",
       "       ...  \n",
       "965     4800\n",
       "976     2700\n",
       "978     2300\n",
       "983     2400\n",
       "990     2900\n",
       "Name: Comments, Length: 148, dtype: int64"
      ]
     },
     "execution_count": 150,
     "metadata": {},
     "output_type": "execute_result"
    }
   ],
   "source": [
    "Most_avg_comments = youtube[youtube[\"Comments\"] > youtube[\"Comments\"].mean()][\"Comments\"]\n",
    "Most_avg_comments"
   ]
  },
  {
   "cell_type": "code",
   "execution_count": 151,
   "id": "9fdeeb0f",
   "metadata": {},
   "outputs": [
    {
     "data": {
      "text/plain": [
       "0         78.0\n",
       "1      18500.0\n",
       "2          0.0\n",
       "3          9.0\n",
       "4          0.0\n",
       "        ...   \n",
       "995      124.0\n",
       "996      164.0\n",
       "997        0.0\n",
       "998        1.0\n",
       "999        1.0\n",
       "Name: Comments, Length: 1000, dtype: float64"
      ]
     },
     "execution_count": 151,
     "metadata": {},
     "output_type": "execute_result"
    }
   ],
   "source": [
    "avg_comments_by_streamer = youtube.groupby(\"Comments\")[\"Comments\"].transform('mean')\n",
    "avg_comments_by_streamer"
   ]
  },
  {
   "cell_type": "code",
   "execution_count": null,
   "id": "25614911",
   "metadata": {},
   "outputs": [],
   "source": []
  },
  {
   "cell_type": "markdown",
   "id": "72035bb1",
   "metadata": {},
   "source": [
    "#### Insights\n",
    "\n",
    "1. **Subscriber Concentration**: Our analysis revealed that a small percentage of streamers hold a majority of the subscriber base, indicating a highly competitive environment where a few top performers dominate. This suggests that these leading streamers have successfully differentiated themselves through unique content, strong engagement, or niche targeting.\n",
    "\n",
    "2. **High-Performing Streamers**: Streamers with subscribers exceeding the average count were identified, highlighting a benchmark group. These high performers likely employ effective strategies in content creation, audience engagement, and consistent posting schedules, setting them apart from the broader pool of content creators.\n",
    "\n",
    "3. **Average Subscribers by Streamer**: By calculating the mean number of subscribers for each streamer, we provided a clear metric that reflects the typical audience size. This measure helps to understand what constitutes an average performance on the platform, serving as a reference for new and existing streamers.\n",
    "\n",
    "4. **Visual Patterns**: Visualizing the data with bar plots and other graphs illuminated the stark differences in subscriber counts among streamers. This made it easier to see which streamers are leading in terms of subscribers and how far the average streamer is from top performers.\n",
    "\n",
    "5. **Content and Engagement Implications**: Although the project primarily focused on subscriber numbers, the data implies that content quality and engagement are critical. High-performing streamers likely excel in creating compelling content and maintaining active interactions with their audience.\n",
    "\n",
    "#### Recommendations\n",
    "\n",
    "1. **Enhance Content Quality**: Streamers should prioritize high-quality, engaging content that resonates with their target audience. Understanding audience preferences and trending topics can guide content creation that attracts and retains viewers.\n",
    "\n",
    "2. **Analyze Top Performers**: New and current streamers should study the strategies of top performers. This includes analyzing their content types, engagement methods, posting schedules, and how they interact with their audience. Learning from successful streamers can provide valuable insights for growth.\n",
    "\n",
    "3. **Leverage Analytics**: Continuous monitoring and analysis of performance metrics are crucial. Streamers should use analytics tools to track subscriber growth, viewership patterns, and engagement rates to make informed decisions and adjust strategies as needed.\n",
    "\n",
    "4. **Build Community Engagement**: Fostering a sense of community can significantly enhance subscriber loyalty. Streamers should focus on interactive content such as live streams, Q&A sessions, and active engagement on social media platforms to build strong connections with their audience.\n",
    "\n",
    "5. **Consistency is Key**: Maintaining a regular posting schedule helps keep the audience engaged and coming back for more. Streamers should aim for consistency in their uploads while balancing quality and quantity.\n",
    "\n",
    "6. **Collaborate with Other Streamers**: Collaborations can expose streamers to new audiences and help in cross-promotion. Partnering with other content creators, especially those with similar or complementary niches, can boost subscriber growth.\n",
    "\n",
    "7. **Explore Niche Content**: Identifying and targeting niche markets can help new streamers stand out. Focusing on specific interests or underserved topics can attract dedicated viewers looking for specialized content.\n",
    "\n",
    "### Future Work\n",
    "\n",
    "For further analysis, incorporating additional data points such as video views, engagement metrics (likes, comments, shares), and audience demographics will provide a more comprehensive understanding of what drives subscriber growth. Additionally, exploring the impact of different content genres and the effectiveness of various engagement strategies can yield deeper insights into successful YouTube channel growth. This will enable streamers to fine-tune their approaches and optimize their presence on the platform."
   ]
  },
  {
   "cell_type": "code",
   "execution_count": null,
   "id": "3a07fcdb",
   "metadata": {},
   "outputs": [],
   "source": []
  },
  {
   "cell_type": "markdown",
   "id": "85c2120b",
   "metadata": {},
   "source": [
    "### Conclusion for YouTube Streamer Analysis Project\n",
    "\n",
    "The YouTube Streamer Analysis Project aimed to provide insights into the subscriber patterns of various streamers, uncovering trends and identifying key performance metrics. Our analysis led to several notable conclusions:\n",
    "\n",
    "1. **Subscriber Distribution**: The analysis of subscriber data revealed a skewed distribution, with a small percentage of streamers commanding a large majority of subscribers. This highlights the competitive nature of the platform, where a few top performers dominate viewer attention.\n",
    "\n",
    "2. **Above-Average Performers**: By filtering out streamers whose subscriber counts exceed the average, we identified a segment of high-performing content creators. These streamers represent a benchmark for aspiring creators and are crucial for understanding what drives subscriber growth.\n",
    "\n",
    "3. **Average Subscribers by Streamer**: Grouping the data by individual streamers allowed us to calculate the average number of subscribers per streamer. This metric provides a clear picture of the typical audience size for different content creators, serving as a valuable reference for assessing performance.\n",
    "\n",
    "4. **Visualization Insights**: The bar plot of average subscribers by streamer offered a visual representation of how subscriber counts are distributed among streamers. This visualization made it evident which streamers are leading in terms of subscriber numbers and facilitated easier comparison across the board.\n",
    "\n",
    "5. **Content and Engagement**: Although not directly analyzed in the project, it is implied that content quality, engagement strategies, and niche selection play significant roles in attracting subscribers. High-performing streamers likely excel in these areas, setting them apart from the rest.\n",
    "\n",
    "\n",
    "\n",
    "### Future Work\n",
    "\n",
    "For future analysis, incorporating additional data points such as video views, engagement rates (likes, comments, shares), and demographic information of the audience would provide a more comprehensive understanding of factors influencing subscriber growth. Furthermore, examining the impact of different content genres and collaboration between streamers could yield deeper insights into effective growth strategies.\n",
    "\n",
    "By leveraging these findings, streamers can better navigate the competitive landscape of YouTube, optimize their content strategy, and ultimately grow their subscriber base more effectively."
   ]
  },
  {
   "cell_type": "code",
   "execution_count": null,
   "id": "d40ec46a",
   "metadata": {},
   "outputs": [],
   "source": []
  },
  {
   "cell_type": "code",
   "execution_count": null,
   "id": "5d91b01f",
   "metadata": {},
   "outputs": [],
   "source": []
  },
  {
   "cell_type": "code",
   "execution_count": null,
   "id": "42c45d9b",
   "metadata": {},
   "outputs": [],
   "source": []
  }
 ],
 "metadata": {
  "kernelspec": {
   "display_name": "Python 3 (ipykernel)",
   "language": "python",
   "name": "python3"
  },
  "language_info": {
   "codemirror_mode": {
    "name": "ipython",
    "version": 3
   },
   "file_extension": ".py",
   "mimetype": "text/x-python",
   "name": "python",
   "nbconvert_exporter": "python",
   "pygments_lexer": "ipython3",
   "version": "3.11.5"
  }
 },
 "nbformat": 4,
 "nbformat_minor": 5
}
